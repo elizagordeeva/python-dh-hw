{
 "cells": [
  {
   "cell_type": "code",
   "execution_count": 3,
   "metadata": {},
   "outputs": [
    {
     "name": "stdout",
     "output_type": "stream",
     "text": [
      "Enter number 1-9:5\n",
      "   _~_       _~_       _~_       _~_       _~_    \n",
      "  (o o)     (o o)     (o o)     (o o)     (o o)   \n",
      " /  V  \\   /  V  \\   /  V  \\   /  V  \\   /  V  \\  \n",
      "/(  _  )\\ /(  _  )\\ /(  _  )\\ /(  _  )\\ /(  _  )\\ \n",
      "  ^^ ^^     ^^ ^^     ^^ ^^     ^^ ^^     ^^ ^^   \n"
     ]
    }
   ],
   "source": [
    "peng = [\n",
    "  '   _~_    ',\n",
    "  '  (o o)   ',\n",
    "  ' /  V  \\\\  ',\n",
    "  '/(  _  )\\\\ ',\n",
    "  '  ^^ ^^   '\n",
    "]\n",
    "\n",
    "request = int(input(\"Enter number 1-9:\"))\n",
    "for i in peng: print(request * i, sep=' ')\n",
    "    "
   ]
  },
  {
   "cell_type": "code",
   "execution_count": 13,
   "metadata": {},
   "outputs": [
    {
     "name": "stdout",
     "output_type": "stream",
     "text": [
      "enter tree digit number456\n",
      "Total number: 15\n"
     ]
    }
   ],
   "source": [
    "n = input(\"enter tree digit number\")\n",
    "n = int(n)\n",
    " \n",
    "d1 = n % 10\n",
    "d2 = n % 100 // 10\n",
    "d3 = n // 100\n",
    " \n",
    "print(\"Total number:\", d1 + d2 + d3)\n"
   ]
  },
  {
   "cell_type": "code",
   "execution_count": 26,
   "metadata": {},
   "outputs": [
    {
     "name": "stdout",
     "output_type": "stream",
     "text": [
      "count of words in string:  5\n"
     ]
    }
   ],
   "source": [
    "s = \"hello my name is Liza\"\n",
    "print (\"count of words in string: \", s.count (\" \")+1)\n"
   ]
  },
  {
   "cell_type": "code",
   "execution_count": null,
   "metadata": {},
   "outputs": [],
   "source": []
  }
 ],
 "metadata": {
  "kernelspec": {
   "display_name": "Python 3",
   "language": "python",
   "name": "python3"
  },
  "language_info": {
   "codemirror_mode": {
    "name": "ipython",
    "version": 3
   },
   "file_extension": ".py",
   "mimetype": "text/x-python",
   "name": "python",
   "nbconvert_exporter": "python",
   "pygments_lexer": "ipython3",
   "version": "3.6.4"
  }
 },
 "nbformat": 4,
 "nbformat_minor": 2
}
