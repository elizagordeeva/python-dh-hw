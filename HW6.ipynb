{
 "cells": [
  {
   "cell_type": "code",
   "execution_count": 10,
   "metadata": {},
   "outputs": [
    {
     "name": "stdout",
     "output_type": "stream",
     "text": [
      "The current bigram \"аб\" and the number of repeats\"1\"\n",
      "The current bigram \"бр\" and the number of repeats\"1\"\n",
      "The current bigram \"ра\" and the number of repeats\"1\"\n",
      "The current bigram \"ак\" and the number of repeats\"1\"\n",
      "The current bigram \"ка\" and the number of repeats\"1\"\n",
      "The current bigram \"ад\" and the number of repeats\"1\"\n",
      "The current bigram \"да\" and the number of repeats\"1\"\n",
      "The current bigram \"аб\" and the number of repeats\"2\"\n",
      "The current bigram \"бр\" and the number of repeats\"2\"\n",
      "The current bigram \"ра\" and the number of repeats\"2\"\n",
      "---\n",
      "The current bigram \"фо\" and the number of repeats\"1\"\n",
      "The current bigram \"ок\" and the number of repeats\"1\"\n",
      "The current bigram \"ку\" and the number of repeats\"1\"\n",
      "The current bigram \"ус\" and the number of repeats\"1\"\n",
      "---\n",
      "The current bigram \"по\" and the number of repeats\"1\"\n",
      "The current bigram \"ок\" and the number of repeats\"2\"\n",
      "The current bigram \"ку\" and the number of repeats\"2\"\n",
      "The current bigram \"ус\" and the number of repeats\"2\"\n",
      "---\n",
      "The current bigram \"де\" and the number of repeats\"1\"\n",
      "The current bigram \"ес\" and the number of repeats\"1\"\n",
      "The current bigram \"ся\" and the number of repeats\"1\"\n",
      "The current bigram \"ят\" and the number of repeats\"1\"\n",
      "The current bigram \"тк\" and the number of repeats\"1\"\n",
      "The current bigram \"ка\" and the number of repeats\"2\"\n",
      "---\n",
      "The current bigram \"за\" and the number of repeats\"1\"\n",
      "---\n",
      "The current bigram \"ку\" and the number of repeats\"3\"\n",
      "The current bigram \"ур\" and the number of repeats\"1\"\n",
      "The current bigram \"рс\" and the number of repeats\"1\"\n",
      "---\n",
      "The current bigram \"не\" and the number of repeats\"1\"\n",
      "The current bigram \"ем\" and the number of repeats\"1\"\n",
      "The current bigram \"ме\" and the number of repeats\"1\"\n",
      "The current bigram \"ед\" and the number of repeats\"1\"\n",
      "The current bigram \"дл\" and the number of repeats\"1\"\n",
      "The current bigram \"ле\" and the number of repeats\"1\"\n",
      "The current bigram \"ен\" and the number of repeats\"1\"\n",
      "The current bigram \"нн\" and the number of repeats\"1\"\n",
      "The current bigram \"но\" and the number of repeats\"1\"\n",
      "---\n",
      "The current bigram \"по\" and the number of repeats\"2\"\n",
      "The current bigram \"оя\" and the number of repeats\"1\"\n",
      "The current bigram \"яв\" and the number of repeats\"1\"\n",
      "The current bigram \"ви\" and the number of repeats\"1\"\n",
      "The current bigram \"ис\" and the number of repeats\"1\"\n",
      "The current bigram \"сь\" and the number of repeats\"1\"\n",
      "---\n"
     ]
    }
   ],
   "source": [
    "#-*- coding: utf-8 -*-\n",
    "words = \"абракадабра фокус покус десятка за курс немедленно появись\"\n",
    "wordlist = words.split()\n",
    "bi_dict= {}\n",
    "\n",
    "for word in wordlist:\n",
    "    for index, letter in enumerate(word):\n",
    "        bigram = word [index:index+2]\n",
    "        if len(bigram) ==1:\n",
    "            continue\n",
    "        if bigram in bi_dict.keys():\n",
    "            bi_dict[bigram] +=1\n",
    "        else:\n",
    "            bi_dict[bigram]= 1\n",
    "        print (\"The current bigram \\\"{}\\\" and the number of repeats\\\"{}\\\"\".format(bigram, bi_dict[bigram]))\n",
    "    print(\"---\")"
   ]
  },
  {
   "cell_type": "code",
   "execution_count": 33,
   "metadata": {},
   "outputs": [
    {
     "name": "stdout",
     "output_type": "stream",
     "text": [
      "First word \"one\" and second word \"eno\"\n",
      "YES\n",
      "First word \"cloud\" and second word \"earth\"\n",
      "NO\n"
     ]
    }
   ],
   "source": [
    "def mirror_str(couple_of_words):\n",
    "    print(\"First word \\\"%s\\\" and second word \\\"%s\\\"\"%(couple_of_words[0], couple_of_words[1]))\n",
    "    word_one = couple_of_words[0]\n",
    "    word_two = couple_of_words[1]\n",
    "    mirror = word_two[::-1]\n",
    "    if word_one == mirror:\n",
    "        print(\"YES\")\n",
    "    else:\n",
    "        print(\"NO\")\n",
    "            \n",
    "first_pair =['one','eno']\n",
    "second_pair = ['cloud','earth']\n",
    "mirror_str(first_pair)\n",
    "mirror_str(second_pair)\n"
   ]
  },
  {
   "cell_type": "code",
   "execution_count": null,
   "metadata": {},
   "outputs": [],
   "source": []
  }
 ],
 "metadata": {
  "kernelspec": {
   "display_name": "Python 3",
   "language": "python",
   "name": "python3"
  },
  "language_info": {
   "codemirror_mode": {
    "name": "ipython",
    "version": 3
   },
   "file_extension": ".py",
   "mimetype": "text/x-python",
   "name": "python",
   "nbconvert_exporter": "python",
   "pygments_lexer": "ipython3",
   "version": "3.6.4"
  }
 },
 "nbformat": 4,
 "nbformat_minor": 2
}
